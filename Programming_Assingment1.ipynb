{
 "cells": [
  {
   "cell_type": "code",
   "execution_count": 8,
   "id": "24897496",
   "metadata": {},
   "outputs": [
    {
     "name": "stdout",
     "output_type": "stream",
     "text": [
      "Hello Python\n"
     ]
    }
   ],
   "source": [
    "#Q1\n",
    "print(\"Hello Python\")"
   ]
  },
  {
   "cell_type": "code",
   "execution_count": 11,
   "id": "09c62a33",
   "metadata": {},
   "outputs": [
    {
     "name": "stdout",
     "output_type": "stream",
     "text": [
      "enter number a334\n",
      "enter number b34\n",
      "addtion of a and b is = 368\n",
      "subctration of a and b is  300\n",
      "division of a and b is  9.823529411764707\n",
      "multiply of a and b is  11356\n"
     ]
    }
   ],
   "source": [
    "#Q2\n",
    "a = int(input(\"enter number a\"))\n",
    "b = int(input(\"enter number b\"))\n",
    "print(\"addtion of a and b is =\",a+b)\n",
    "print(\"subctration of a and b is \", a-b)\n",
    "print(\"division of a and b is \", a/b)\n",
    "print(\"multiply of a and b is \", a*b)\n"
   ]
  },
  {
   "cell_type": "code",
   "execution_count": 12,
   "id": "aa32b50b",
   "metadata": {},
   "outputs": [
    {
     "name": "stdout",
     "output_type": "stream",
     "text": [
      "enter number a35\n",
      "enter number b23\n",
      "the area of a triangle is  402.5\n"
     ]
    }
   ],
   "source": [
    "#Q3\n",
    "h = int(input(\"enter number a\"))\n",
    "b = int(input(\"enter number b\"))\n",
    "print(\"the area of a triangle is \",0.5*h*b )"
   ]
  },
  {
   "cell_type": "code",
   "execution_count": 15,
   "id": "795a0ea3",
   "metadata": {},
   "outputs": [
    {
     "name": "stdout",
     "output_type": "stream",
     "text": [
      "enter varible a45\n",
      "enter variable b50\n",
      "Variable is swapped now 50 45\n"
     ]
    }
   ],
   "source": [
    "#Q4\n",
    "a = int(input(\"enter varible a\"))\n",
    "b = int(input(\"enter variable b\"))\n",
    "c=a\n",
    "a=b\n",
    "b=c\n",
    "print('Variable is swapped now',a,b)"
   ]
  },
  {
   "cell_type": "code",
   "execution_count": 26,
   "id": "5b1a6776",
   "metadata": {},
   "outputs": [
    {
     "name": "stdout",
     "output_type": "stream",
     "text": [
      "4\n"
     ]
    }
   ],
   "source": [
    "#Q5\n",
    "import random\n",
    "print(random.randint(0,9))"
   ]
  },
  {
   "cell_type": "code",
   "execution_count": null,
   "id": "a72f98ef",
   "metadata": {},
   "outputs": [],
   "source": []
  }
 ],
 "metadata": {
  "kernelspec": {
   "display_name": "Python 3 (ipykernel)",
   "language": "python",
   "name": "python3"
  },
  "language_info": {
   "codemirror_mode": {
    "name": "ipython",
    "version": 3
   },
   "file_extension": ".py",
   "mimetype": "text/x-python",
   "name": "python",
   "nbconvert_exporter": "python",
   "pygments_lexer": "ipython3",
   "version": "3.9.7"
  }
 },
 "nbformat": 4,
 "nbformat_minor": 5
}
